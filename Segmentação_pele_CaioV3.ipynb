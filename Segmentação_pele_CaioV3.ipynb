version https://git-lfs.github.com/spec/v1
oid sha256:ce3df008b2bdafcb11e9db81ce12a4faed005b95b33e96f8df308c6a08781b01
size 9273
