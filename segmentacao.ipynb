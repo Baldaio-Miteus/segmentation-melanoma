version https://git-lfs.github.com/spec/v1
oid sha256:e78d9e31a006fc8c0085605e04f86cd33ee559350ade066eda52dda2d58a0227
size 156787225
