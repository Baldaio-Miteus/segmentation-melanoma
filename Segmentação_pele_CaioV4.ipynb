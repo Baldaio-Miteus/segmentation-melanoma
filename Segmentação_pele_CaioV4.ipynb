version https://git-lfs.github.com/spec/v1
oid sha256:3b75813ed4a85e972d41ce6a2838d2899768e3c81199455bf4d1232671b039dd
size 84319
