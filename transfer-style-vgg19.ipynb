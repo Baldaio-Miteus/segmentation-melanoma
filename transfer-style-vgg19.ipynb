version https://git-lfs.github.com/spec/v1
oid sha256:c3960ac2ac4f51998d51fb8cfa5d43111338363d167762fba2d84c0ef66ae7ef
size 651394
